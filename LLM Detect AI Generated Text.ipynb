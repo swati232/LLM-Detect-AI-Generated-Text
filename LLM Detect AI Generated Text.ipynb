{
 "cells": [
  {
   "cell_type": "code",
   "execution_count": 1,
   "id": "8557575f",
   "metadata": {
    "_cell_guid": "b1076dfc-b9ad-4769-8c92-a6c4dae69d19",
    "_uuid": "8f2839f25d086af736a60e9eeb907d3b93b6e0e5",
    "execution": {
     "iopub.execute_input": "2024-01-15T07:21:57.963927Z",
     "iopub.status.busy": "2024-01-15T07:21:57.963096Z",
     "iopub.status.idle": "2024-01-15T07:21:58.412848Z",
     "shell.execute_reply": "2024-01-15T07:21:58.411184Z"
    },
    "papermill": {
     "duration": 0.46032,
     "end_time": "2024-01-15T07:21:58.416094",
     "exception": false,
     "start_time": "2024-01-15T07:21:57.955774",
     "status": "completed"
    },
    "tags": []
   },
   "outputs": [
    {
     "name": "stdout",
     "output_type": "stream",
     "text": [
      "/kaggle/input/llm-detect-ai-generated-text/sample_submission.csv\n",
      "/kaggle/input/llm-detect-ai-generated-text/train_prompts.csv\n",
      "/kaggle/input/llm-detect-ai-generated-text/test_essays.csv\n",
      "/kaggle/input/llm-detect-ai-generated-text/train_essays.csv\n",
      "/kaggle/input/daigt-proper-train-dataset/train_drcat_03.csv\n",
      "/kaggle/input/daigt-proper-train-dataset/train_drcat_02.csv\n",
      "/kaggle/input/daigt-proper-train-dataset/train_drcat_04.csv\n",
      "/kaggle/input/daigt-proper-train-dataset/train_drcat_01.csv\n"
     ]
    }
   ],
   "source": [
    "# This Python 3 environment comes with many helpful analytics libraries installed\n",
    "# It is defined by the kaggle/python Docker image: https://github.com/kaggle/docker-python\n",
    "# For example, here's several helpful packages to load\n",
    "\n",
    "import numpy as np # linear algebra\n",
    "import pandas as pd # data processing, CSV file I/O (e.g. pd.read_csv)\n",
    "\n",
    "# Input data files are available in the read-only \"../input/\" directory\n",
    "# For example, running this (by clicking run or pressing Shift+Enter) will list all files under the input directory\n",
    "\n",
    "import os\n",
    "for dirname, _, filenames in os.walk('/kaggle/input'):\n",
    "    for filename in filenames:\n",
    "        print(os.path.join(dirname, filename))\n",
    "\n",
    "# You can write up to 20GB to the current directory (/kaggle/working/) that gets preserved as output when you create a version using \"Save & Run All\" \n",
    "# You can also write temporary files to /kaggle/temp/, but they won't be saved outside of the current session"
   ]
  },
  {
   "cell_type": "code",
   "execution_count": 2,
   "id": "6cb0091d",
   "metadata": {
    "execution": {
     "iopub.execute_input": "2024-01-15T07:21:58.428434Z",
     "iopub.status.busy": "2024-01-15T07:21:58.427860Z",
     "iopub.status.idle": "2024-01-15T07:22:13.452429Z",
     "shell.execute_reply": "2024-01-15T07:22:13.450589Z"
    },
    "papermill": {
     "duration": 15.035735,
     "end_time": "2024-01-15T07:22:13.457291",
     "exception": false,
     "start_time": "2024-01-15T07:21:58.421556",
     "status": "completed"
    },
    "tags": []
   },
   "outputs": [],
   "source": [
    "import matplotlib.pyplot as plt\n",
    "import pandas as pd\n",
    "from sklearn.model_selection import train_test_split\n",
    "from sklearn.metrics import accuracy_score, confusion_matrix, classification_report\n",
    "import numpy as np\n",
    "from tensorflow.keras.layers import Conv1D, GlobalMaxPooling1D, BatchNormalization, Dropout\n",
    "from tensorflow.keras.regularizers import l2\n",
    "from tensorflow.keras.models import Model\n",
    "from tensorflow.keras.layers import Input, Embedding, Dense, Flatten, Concatenate\n",
    "from tensorflow.keras.preprocessing.text import Tokenizer\n",
    "from tensorflow.keras.preprocessing.sequence import pad_sequences\n",
    "import tensorflow as tf"
   ]
  },
  {
   "cell_type": "code",
   "execution_count": 3,
   "id": "8b5145ee",
   "metadata": {
    "execution": {
     "iopub.execute_input": "2024-01-15T07:22:13.477604Z",
     "iopub.status.busy": "2024-01-15T07:22:13.475892Z",
     "iopub.status.idle": "2024-01-15T07:22:22.586850Z",
     "shell.execute_reply": "2024-01-15T07:22:22.585456Z"
    },
    "papermill": {
     "duration": 9.122958,
     "end_time": "2024-01-15T07:22:22.589935",
     "exception": false,
     "start_time": "2024-01-15T07:22:13.466977",
     "status": "completed"
    },
    "tags": []
   },
   "outputs": [],
   "source": [
    "# Read the training data from multiple CSV files\n",
    "train_1 = pd.read_csv('/kaggle/input/daigt-proper-train-dataset/train_drcat_01.csv')\n",
    "train_2 = pd.read_csv('/kaggle/input/daigt-proper-train-dataset/train_drcat_02.csv')\n",
    "train_3 = pd.read_csv('/kaggle/input/daigt-proper-train-dataset/train_drcat_03.csv')\n",
    "train_4 = pd.read_csv('/kaggle/input/daigt-proper-train-dataset/train_drcat_04.csv')\n"
   ]
  },
  {
   "cell_type": "code",
   "execution_count": 4,
   "id": "51f6e9fa",
   "metadata": {
    "execution": {
     "iopub.execute_input": "2024-01-15T07:22:22.602230Z",
     "iopub.status.busy": "2024-01-15T07:22:22.601706Z",
     "iopub.status.idle": "2024-01-15T07:22:22.735855Z",
     "shell.execute_reply": "2024-01-15T07:22:22.734663Z"
    },
    "papermill": {
     "duration": 0.144053,
     "end_time": "2024-01-15T07:22:22.739185",
     "exception": false,
     "start_time": "2024-01-15T07:22:22.595132",
     "status": "completed"
    },
    "tags": []
   },
   "outputs": [],
   "source": [
    "# Load the main data from another CSV file\n",
    "main = pd.read_csv('/kaggle/input/llm-detect-ai-generated-text/train_essays.csv')\n",
    "\n",
    "# Select relevant columns from each DataFrame\n",
    "train_1 = train_1[['text', 'label']]\n",
    "train_2 = train_2[['text', 'label']]\n",
    "train_3 = train_3[['text', 'label']]\n",
    "train_4 = train_4[['text', 'label']]\n",
    "\n",
    "main = main[['text', 'generated']]\n",
    "main = main.set_axis(['text', 'label'], axis=1)"
   ]
  },
  {
   "cell_type": "code",
   "execution_count": 5,
   "id": "79df4223",
   "metadata": {
    "execution": {
     "iopub.execute_input": "2024-01-15T07:22:22.754548Z",
     "iopub.status.busy": "2024-01-15T07:22:22.754067Z",
     "iopub.status.idle": "2024-01-15T07:22:22.801704Z",
     "shell.execute_reply": "2024-01-15T07:22:22.800528Z"
    },
    "papermill": {
     "duration": 0.061335,
     "end_time": "2024-01-15T07:22:22.807329",
     "exception": false,
     "start_time": "2024-01-15T07:22:22.745994",
     "status": "completed"
    },
    "tags": []
   },
   "outputs": [
    {
     "name": "stdout",
     "output_type": "stream",
     "text": [
      "Missing values in the concatenated dataset:\n",
      " text     0\n",
      "label    0\n",
      "dtype: int64\n"
     ]
    }
   ],
   "source": [
    "# Concatenate the data from different sources\n",
    "df = pd.concat([train_1, train_2, train_3, train_4, main])\n",
    "\n",
    "# Check for missing values in the concatenated dataset\n",
    "missing_values_train = df.isnull().sum()\n",
    "print(\"Missing values in the concatenated dataset:\\n\", missing_values_train)\n",
    "\n",
    "# Split the data into features (X) and target variable (y)\n",
    "y = df['label']\n",
    "X = df['text']"
   ]
  },
  {
   "cell_type": "code",
   "execution_count": 6,
   "id": "4209ed46",
   "metadata": {
    "execution": {
     "iopub.execute_input": "2024-01-15T07:22:22.819450Z",
     "iopub.status.busy": "2024-01-15T07:22:22.818944Z",
     "iopub.status.idle": "2024-01-15T07:24:16.850538Z",
     "shell.execute_reply": "2024-01-15T07:24:16.849475Z"
    },
    "papermill": {
     "duration": 114.040981,
     "end_time": "2024-01-15T07:24:16.853525",
     "exception": false,
     "start_time": "2024-01-15T07:22:22.812544",
     "status": "completed"
    },
    "tags": []
   },
   "outputs": [],
   "source": [
    "# Split the data into training and validation sets (adjust the test_size as needed)\n",
    "X_train, X_valid, y_train, y_valid = train_test_split(X, y, test_size=0.2, random_state=42)\n",
    "\n",
    "# Text data preprocessing using Tokenizer and pad_sequences\n",
    "tokenizer = Tokenizer()\n",
    "tokenizer.fit_on_texts(X_train)\n",
    "text_sequences_train = tokenizer.texts_to_sequences(X_train)\n",
    "text_sequences_valid = tokenizer.texts_to_sequences(X_valid)\n",
    "\n",
    "X_train = pad_sequences(text_sequences_train, maxlen=2000)\n",
    "X_valid = pad_sequences(text_sequences_valid, maxlen=2000)"
   ]
  },
  {
   "cell_type": "code",
   "execution_count": 7,
   "id": "1b058915",
   "metadata": {
    "execution": {
     "iopub.execute_input": "2024-01-15T07:24:16.865898Z",
     "iopub.status.busy": "2024-01-15T07:24:16.865266Z",
     "iopub.status.idle": "2024-01-15T07:24:17.231862Z",
     "shell.execute_reply": "2024-01-15T07:24:17.230676Z"
    },
    "papermill": {
     "duration": 0.376074,
     "end_time": "2024-01-15T07:24:17.234821",
     "exception": false,
     "start_time": "2024-01-15T07:24:16.858747",
     "status": "completed"
    },
    "tags": []
   },
   "outputs": [],
   "source": [
    "# DNN model architecture (customize as needed)\n",
    "input_layer = Input(shape=(X_train.shape[1],))\n",
    "embedding_layer = Embedding(input_dim=len(tokenizer.word_index) + 501, output_dim=32)(input_layer)\n",
    "\n",
    "conv1d_1 = Conv1D(128, 5, activation='relu', kernel_regularizer=l2(0.01))(embedding_layer)\n",
    "conv1d_1 = BatchNormalization()(conv1d_1)\n",
    "conv1d_1 = Dropout(0.2)(conv1d_1)\n",
    "maxpooling_1 = GlobalMaxPooling1D()(conv1d_1)\n",
    "\n",
    "flatten_layer = Flatten()(embedding_layer)\n",
    "hidden_layer = Dense(64, activation='relu', kernel_regularizer=l2(0.01))(flatten_layer)\n",
    "hidden_layer = BatchNormalization()(hidden_layer)\n",
    "hidden_layer = Dropout(0.2)(hidden_layer)"
   ]
  },
  {
   "cell_type": "code",
   "execution_count": 8,
   "id": "73a39504",
   "metadata": {
    "execution": {
     "iopub.execute_input": "2024-01-15T07:24:17.247088Z",
     "iopub.status.busy": "2024-01-15T07:24:17.246461Z",
     "iopub.status.idle": "2024-01-15T07:24:17.337377Z",
     "shell.execute_reply": "2024-01-15T07:24:17.336068Z"
    },
    "papermill": {
     "duration": 0.113577,
     "end_time": "2024-01-15T07:24:17.353492",
     "exception": false,
     "start_time": "2024-01-15T07:24:17.239915",
     "status": "completed"
    },
    "tags": []
   },
   "outputs": [
    {
     "name": "stdout",
     "output_type": "stream",
     "text": [
      "Model: \"model\"\n",
      "__________________________________________________________________________________________________\n",
      " Layer (type)                Output Shape                 Param #   Connected to                  \n",
      "==================================================================================================\n",
      " input_1 (InputLayer)        [(None, 2000)]               0         []                            \n",
      "                                                                                                  \n",
      " embedding (Embedding)       (None, 2000, 32)             3069504   ['input_1[0][0]']             \n",
      "                                                                                                  \n",
      " conv1d (Conv1D)             (None, 1996, 128)            20608     ['embedding[0][0]']           \n",
      "                                                                                                  \n",
      " flatten (Flatten)           (None, 64000)                0         ['embedding[0][0]']           \n",
      "                                                                                                  \n",
      " batch_normalization (Batch  (None, 1996, 128)            512       ['conv1d[0][0]']              \n",
      " Normalization)                                                                                   \n",
      "                                                                                                  \n",
      " dense (Dense)               (None, 64)                   4096064   ['flatten[0][0]']             \n",
      "                                                                                                  \n",
      " dropout (Dropout)           (None, 1996, 128)            0         ['batch_normalization[0][0]'] \n",
      "                                                                                                  \n",
      " batch_normalization_1 (Bat  (None, 64)                   256       ['dense[0][0]']               \n",
      " chNormalization)                                                                                 \n",
      "                                                                                                  \n",
      " global_max_pooling1d (Glob  (None, 128)                  0         ['dropout[0][0]']             \n",
      " alMaxPooling1D)                                                                                  \n",
      "                                                                                                  \n",
      " dropout_1 (Dropout)         (None, 64)                   0         ['batch_normalization_1[0][0]'\n",
      "                                                                    ]                             \n",
      "                                                                                                  \n",
      " concatenate (Concatenate)   (None, 192)                  0         ['global_max_pooling1d[0][0]',\n",
      "                                                                     'dropout_1[0][0]']           \n",
      "                                                                                                  \n",
      " dense_1 (Dense)             (None, 1)                    193       ['concatenate[0][0]']         \n",
      "                                                                                                  \n",
      "==================================================================================================\n",
      "Total params: 7187137 (27.42 MB)\n",
      "Trainable params: 7186753 (27.42 MB)\n",
      "Non-trainable params: 384 (1.50 KB)\n",
      "__________________________________________________________________________________________________\n"
     ]
    }
   ],
   "source": [
    "\n",
    "# Concatenate the results from Conv1D and Dense layers\n",
    "concatenated = Concatenate()([maxpooling_1, hidden_layer])\n",
    "\n",
    "output_layer = Dense(1, activation='sigmoid')(concatenated)\n",
    "\n",
    "model = Model(inputs=input_layer, outputs=output_layer)\n",
    "\n",
    "model.compile(optimizer='adamax', loss='binary_crossentropy', metrics=['accuracy'])\n",
    "\n",
    "model.summary()"
   ]
  },
  {
   "cell_type": "code",
   "execution_count": 9,
   "id": "7268584c",
   "metadata": {
    "execution": {
     "iopub.execute_input": "2024-01-15T07:24:17.372341Z",
     "iopub.status.busy": "2024-01-15T07:24:17.371905Z",
     "iopub.status.idle": "2024-01-15T09:11:20.995640Z",
     "shell.execute_reply": "2024-01-15T09:11:20.994350Z"
    },
    "papermill": {
     "duration": 6423.636263,
     "end_time": "2024-01-15T09:11:20.998199",
     "exception": false,
     "start_time": "2024-01-15T07:24:17.361936",
     "status": "completed"
    },
    "tags": []
   },
   "outputs": [
    {
     "name": "stdout",
     "output_type": "stream",
     "text": [
      "Epoch 1/5\n",
      "252/252 [==============================] - 1290s 5s/step - loss: 0.4578 - accuracy: 0.9762 - val_loss: 0.4861 - val_accuracy: 0.9961\n",
      "Epoch 2/5\n",
      "252/252 [==============================] - 1281s 5s/step - loss: 0.0893 - accuracy: 0.9970 - val_loss: 0.1124 - val_accuracy: 0.9950\n",
      "Epoch 3/5\n",
      "252/252 [==============================] - 1286s 5s/step - loss: 0.0445 - accuracy: 0.9980 - val_loss: 0.0539 - val_accuracy: 0.9924\n",
      "Epoch 4/5\n",
      "252/252 [==============================] - 1282s 5s/step - loss: 0.0303 - accuracy: 0.9986 - val_loss: 0.0559 - val_accuracy: 0.9910\n",
      "Epoch 5/5\n",
      "252/252 [==============================] - 1282s 5s/step - loss: 0.0238 - accuracy: 0.9989 - val_loss: 0.0524 - val_accuracy: 0.9884\n"
     ]
    },
    {
     "data": {
      "text/plain": [
       "<matplotlib.legend.Legend at 0x7fa4cb9b2ef0>"
      ]
     },
     "execution_count": 9,
     "metadata": {},
     "output_type": "execute_result"
    },
    {
     "data": {
      "image/png": "[encoded data removed]",
      "text/plain": [
       "<Figure size 1200x400 with 1 Axes>"
      ]
     },
     "metadata": {},
     "output_type": "display_data"
    }
   ],
   "source": [
    "# Training the model\n",
    "history = model.fit(X_train, y_train, validation_data=(X_valid, y_valid), epochs=5, batch_size=512)\n",
    "\n",
    "# Plot training & validation accuracy values\n",
    "plt.figure(figsize=(12, 4))\n",
    "plt.subplot(1, 2, 1)\n",
    "plt.plot(history.history['accuracy'])\n",
    "plt.plot(history.history['val_accuracy'])\n",
    "plt.title('Model accuracy')\n",
    "plt.ylabel('Accuracy')\n",
    "plt.xlabel('Epoch')\n",
    "plt.legend(['Train', 'Validation'], loc='upper left')"
   ]
  },
  {
   "cell_type": "code",
   "execution_count": 10,
   "id": "de82cbdd",
   "metadata": {
    "execution": {
     "iopub.execute_input": "2024-01-15T09:11:21.259341Z",
     "iopub.status.busy": "2024-01-15T09:11:21.258686Z",
     "iopub.status.idle": "2024-01-15T09:11:21.633259Z",
     "shell.execute_reply": "2024-01-15T09:11:21.632158Z"
    },
    "papermill": {
     "duration": 0.508871,
     "end_time": "2024-01-15T09:11:21.636455",
     "exception": false,
     "start_time": "2024-01-15T09:11:21.127584",
     "status": "completed"
    },
    "tags": []
   },
   "outputs": [
    {
     "data": {
      "image/png": "[encoded data removed]",
      "text/plain": [
       "<Figure size 640x480 with 1 Axes>"
      ]
     },
     "metadata": {},
     "output_type": "display_data"
    }
   ],
   "source": [
    "# Plot training & validation loss values\n",
    "plt.subplot(1, 2, 2)\n",
    "plt.plot(history.history['loss'])\n",
    "plt.plot(history.history['val_loss'])\n",
    "plt.title('Model loss')\n",
    "plt.ylabel('Loss')\n",
    "plt.xlabel('Epoch')\n",
    "plt.legend(['Train', 'Validation'], loc='upper left')\n",
    "\n",
    "plt.tight_layout()\n",
    "plt.show()"
   ]
  },
  {
   "cell_type": "code",
   "execution_count": 11,
   "id": "635363bc",
   "metadata": {
    "execution": {
     "iopub.execute_input": "2024-01-15T09:11:21.898481Z",
     "iopub.status.busy": "2024-01-15T09:11:21.897735Z",
     "iopub.status.idle": "2024-01-15T09:12:05.825023Z",
     "shell.execute_reply": "2024-01-15T09:12:05.824019Z"
    },
    "papermill": {
     "duration": 44.062697,
     "end_time": "2024-01-15T09:12:05.827936",
     "exception": false,
     "start_time": "2024-01-15T09:11:21.765239",
     "status": "completed"
    },
    "tags": []
   },
   "outputs": [
    {
     "name": "stdout",
     "output_type": "stream",
     "text": [
      "1006/1006 [==============================] - 43s 43ms/step\n",
      "Validation Accuracy: 0.9883731774800261\n",
      "Confusion Matrix:\n",
      " [[23294     4]\n",
      " [  370  8499]]\n",
      "Classification Report:\n",
      "               precision    recall  f1-score   support\n",
      "\n",
      "           0       0.98      1.00      0.99     23298\n",
      "           1       1.00      0.96      0.98      8869\n",
      "\n",
      "    accuracy                           0.99     32167\n",
      "   macro avg       0.99      0.98      0.99     32167\n",
      "weighted avg       0.99      0.99      0.99     32167\n",
      "\n"
     ]
    }
   ],
   "source": [
    "# Evaluate the model on the validation set\n",
    "y_pred_valid = (model.predict(X_valid) > 0.5).astype(\"int32\")\n",
    "\n",
    "# Print evaluation metrics\n",
    "print(\"Validation Accuracy:\", accuracy_score(y_valid, y_pred_valid))\n",
    "print(\"Confusion Matrix:\\n\", confusion_matrix(y_valid, y_pred_valid))\n",
    "print(\"Classification Report:\\n\", classification_report(y_valid, y_pred_valid))\n",
    "\n",
    "# Text data preprocessing for the test set\n",
    "test_df = pd.read_csv('/kaggle/input/llm-detect-ai-generated-text/test_essays.csv')\n",
    "text_sequences_test = tokenizer.texts_to_sequences(test_df['text'])\n",
    "X_test = pad_sequences(text_sequences_test, maxlen=2000)"
   ]
  },
  {
   "cell_type": "code",
   "execution_count": 12,
   "id": "7bfd2cad",
   "metadata": {
    "execution": {
     "iopub.execute_input": "2024-01-15T09:12:06.196170Z",
     "iopub.status.busy": "2024-01-15T09:12:06.195730Z",
     "iopub.status.idle": "2024-01-15T09:12:06.296751Z",
     "shell.execute_reply": "2024-01-15T09:12:06.295828Z"
    },
    "papermill": {
     "duration": 0.288137,
     "end_time": "2024-01-15T09:12:06.299080",
     "exception": false,
     "start_time": "2024-01-15T09:12:06.010943",
     "status": "completed"
    },
    "tags": []
   },
   "outputs": [
    {
     "name": "stdout",
     "output_type": "stream",
     "text": [
      "1/1 [==============================] - 0s 28ms/step\n"
     ]
    },
    {
     "data": {
      "text/html": [
       "<div>\n",
       "<style scoped>\n",
       "    .dataframe tbody tr th:only-of-type {\n",
       "        vertical-align: middle;\n",
       "    }\n",
       "\n",
       "    .dataframe tbody tr th {\n",
       "        vertical-align: top;\n",
       "    }\n",
       "\n",
       "    .dataframe thead th {\n",
       "        text-align: right;\n",
       "    }\n",
       "</style>\n",
       "<table border=\"1\" class=\"dataframe\">\n",
       "  <thead>\n",
       "    <tr style=\"text-align: right;\">\n",
       "      <th></th>\n",
       "      <th>id</th>\n",
       "      <th>generated</th>\n",
       "    </tr>\n",
       "  </thead>\n",
       "  <tbody>\n",
       "    <tr>\n",
       "      <th>0</th>\n",
       "      <td>0000aaaa</td>\n",
       "      <td>1</td>\n",
       "    </tr>\n",
       "    <tr>\n",
       "      <th>1</th>\n",
       "      <td>1111bbbb</td>\n",
       "      <td>1</td>\n",
       "    </tr>\n",
       "    <tr>\n",
       "      <th>2</th>\n",
       "      <td>2222cccc</td>\n",
       "      <td>1</td>\n",
       "    </tr>\n",
       "  </tbody>\n",
       "</table>\n",
       "</div>"
      ],
      "text/plain": [
       "         id  generated\n",
       "0  0000aaaa          1\n",
       "1  1111bbbb          1\n",
       "2  2222cccc          1"
      ]
     },
     "execution_count": 12,
     "metadata": {},
     "output_type": "execute_result"
    }
   ],
   "source": [
    "# Make predictions on the test set\n",
    "y_pred_test = (model.predict(X_test) > 0.5).astype(\"int32\")\n",
    "\n",
    "# Prepare the submission DataFrame\n",
    "sub_df = test_df[[\"id\"]].copy()\n",
    "sub_df[\"generated\"] = y_pred_test.squeeze()\n",
    "\n",
    "# Save the submission to a CSV file\n",
    "sub_df.to_csv('submission.csv', index=False)\n",
    "\n",
    "# Display the first 2 rows of the submission DataFrame\n",
    "sub_df.head()"
   ]
  }
 ],
 "metadata": {
  "kaggle": {
   "accelerator": "none",
   "dataSources": [
    {
     "databundleVersionId": 6888007,
     "sourceId": 61542,
     "sourceType": "competition"
    },
    {
     "datasetId": 3942644,
     "sourceId": 6890527,
     "sourceType": "datasetVersion"
    }
   ],
   "dockerImageVersionId": 30635,
   "isGpuEnabled": false,
   "isInternetEnabled": false,
   "language": "python",
   "sourceType": "notebook"
  },
  "kernelspec": {
   "display_name": "Python 3",
   "language": "python",
   "name": "python3"
  },
  "language_info": {
   "codemirror_mode": {
    "name": "ipython",
    "version": 3
   },
   "file_extension": ".py",
   "mimetype": "text/x-python",
   "name": "python",
   "nbconvert_exporter": "python",
   "pygments_lexer": "ipython3",
   "version": "3.10.12"
  },
  "papermill": {
   "default_parameters": {},
   "duration": 6614.747728,
   "end_time": "2024-01-15T09:12:09.217805",
   "environment_variables": {},
   "exception": null,
   "input_path": "__notebook__.ipynb",
   "output_path": "__notebook__.ipynb",
   "parameters": {},
   "start_time": "2024-01-15T07:21:54.470077",
   "version": "2.4.0"
  }
 },
 "nbformat": 4,
 "nbformat_minor": 5
}
